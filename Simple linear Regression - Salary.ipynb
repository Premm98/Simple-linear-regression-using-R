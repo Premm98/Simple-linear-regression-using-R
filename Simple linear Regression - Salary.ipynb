{
 "cells": [
  {
   "cell_type": "code",
   "execution_count": 16,
   "metadata": {},
   "outputs": [],
   "source": [
    "data <- read.csv('Salary_Data.csv')"
   ]
  },
  {
   "cell_type": "code",
   "execution_count": 17,
   "metadata": {},
   "outputs": [
    {
     "data": {
      "text/html": [
       "<table>\n",
       "<thead><tr><th scope=col>YearsExperience</th><th scope=col>Salary</th></tr></thead>\n",
       "<tbody>\n",
       "\t<tr><td>1.1  </td><td>39343</td></tr>\n",
       "\t<tr><td>1.3  </td><td>46205</td></tr>\n",
       "\t<tr><td>1.5  </td><td>37731</td></tr>\n",
       "\t<tr><td>2.0  </td><td>43525</td></tr>\n",
       "\t<tr><td>2.2  </td><td>39891</td></tr>\n",
       "\t<tr><td>2.9  </td><td>56642</td></tr>\n",
       "</tbody>\n",
       "</table>\n"
      ],
      "text/latex": [
       "\\begin{tabular}{r|ll}\n",
       " YearsExperience & Salary\\\\\n",
       "\\hline\n",
       "\t 1.1   & 39343\\\\\n",
       "\t 1.3   & 46205\\\\\n",
       "\t 1.5   & 37731\\\\\n",
       "\t 2.0   & 43525\\\\\n",
       "\t 2.2   & 39891\\\\\n",
       "\t 2.9   & 56642\\\\\n",
       "\\end{tabular}\n"
      ],
      "text/markdown": [
       "\n",
       "| YearsExperience | Salary |\n",
       "|---|---|\n",
       "| 1.1   | 39343 |\n",
       "| 1.3   | 46205 |\n",
       "| 1.5   | 37731 |\n",
       "| 2.0   | 43525 |\n",
       "| 2.2   | 39891 |\n",
       "| 2.9   | 56642 |\n",
       "\n"
      ],
      "text/plain": [
       "  YearsExperience Salary\n",
       "1 1.1             39343 \n",
       "2 1.3             46205 \n",
       "3 1.5             37731 \n",
       "4 2.0             43525 \n",
       "5 2.2             39891 \n",
       "6 2.9             56642 "
      ]
     },
     "metadata": {},
     "output_type": "display_data"
    }
   ],
   "source": [
    "head(data)"
   ]
  },
  {
   "cell_type": "code",
   "execution_count": 18,
   "metadata": {},
   "outputs": [
    {
     "data": {
      "text/plain": [
       " YearsExperience      Salary      \n",
       " Min.   : 1.100   Min.   : 37731  \n",
       " 1st Qu.: 3.200   1st Qu.: 56721  \n",
       " Median : 4.700   Median : 65237  \n",
       " Mean   : 5.313   Mean   : 76003  \n",
       " 3rd Qu.: 7.700   3rd Qu.:100545  \n",
       " Max.   :10.500   Max.   :122391  "
      ]
     },
     "metadata": {},
     "output_type": "display_data"
    }
   ],
   "source": [
    "summary(data)"
   ]
  },
  {
   "cell_type": "code",
   "execution_count": 19,
   "metadata": {},
   "outputs": [
    {
     "data": {
      "text/html": [
       "<ol class=list-inline>\n",
       "\t<li>30</li>\n",
       "\t<li>2</li>\n",
       "</ol>\n"
      ],
      "text/latex": [
       "\\begin{enumerate*}\n",
       "\\item 30\n",
       "\\item 2\n",
       "\\end{enumerate*}\n"
      ],
      "text/markdown": [
       "1. 30\n",
       "2. 2\n",
       "\n",
       "\n"
      ],
      "text/plain": [
       "[1] 30  2"
      ]
     },
     "metadata": {},
     "output_type": "display_data"
    }
   ],
   "source": [
    "dim(data)"
   ]
  },
  {
   "cell_type": "code",
   "execution_count": 20,
   "metadata": {
    "scrolled": true
   },
   "outputs": [
    {
     "data": {
      "text/html": [
       "<table>\n",
       "<thead><tr><th scope=col>YearsExperience</th><th scope=col>Salary</th></tr></thead>\n",
       "<tbody>\n",
       "\t<tr><td>FALSE</td><td>FALSE</td></tr>\n",
       "\t<tr><td>FALSE</td><td>FALSE</td></tr>\n",
       "\t<tr><td>FALSE</td><td>FALSE</td></tr>\n",
       "\t<tr><td>FALSE</td><td>FALSE</td></tr>\n",
       "\t<tr><td>FALSE</td><td>FALSE</td></tr>\n",
       "\t<tr><td>FALSE</td><td>FALSE</td></tr>\n",
       "\t<tr><td>FALSE</td><td>FALSE</td></tr>\n",
       "\t<tr><td>FALSE</td><td>FALSE</td></tr>\n",
       "\t<tr><td>FALSE</td><td>FALSE</td></tr>\n",
       "\t<tr><td>FALSE</td><td>FALSE</td></tr>\n",
       "\t<tr><td>FALSE</td><td>FALSE</td></tr>\n",
       "\t<tr><td>FALSE</td><td>FALSE</td></tr>\n",
       "\t<tr><td>FALSE</td><td>FALSE</td></tr>\n",
       "\t<tr><td>FALSE</td><td>FALSE</td></tr>\n",
       "\t<tr><td>FALSE</td><td>FALSE</td></tr>\n",
       "\t<tr><td>FALSE</td><td>FALSE</td></tr>\n",
       "\t<tr><td>FALSE</td><td>FALSE</td></tr>\n",
       "\t<tr><td>FALSE</td><td>FALSE</td></tr>\n",
       "\t<tr><td>FALSE</td><td>FALSE</td></tr>\n",
       "\t<tr><td>FALSE</td><td>FALSE</td></tr>\n",
       "\t<tr><td>FALSE</td><td>FALSE</td></tr>\n",
       "\t<tr><td>FALSE</td><td>FALSE</td></tr>\n",
       "\t<tr><td>FALSE</td><td>FALSE</td></tr>\n",
       "\t<tr><td>FALSE</td><td>FALSE</td></tr>\n",
       "\t<tr><td>FALSE</td><td>FALSE</td></tr>\n",
       "\t<tr><td>FALSE</td><td>FALSE</td></tr>\n",
       "\t<tr><td>FALSE</td><td>FALSE</td></tr>\n",
       "\t<tr><td>FALSE</td><td>FALSE</td></tr>\n",
       "\t<tr><td>FALSE</td><td>FALSE</td></tr>\n",
       "\t<tr><td>FALSE</td><td>FALSE</td></tr>\n",
       "</tbody>\n",
       "</table>\n"
      ],
      "text/latex": [
       "\\begin{tabular}{ll}\n",
       " YearsExperience & Salary\\\\\n",
       "\\hline\n",
       "\t FALSE & FALSE\\\\\n",
       "\t FALSE & FALSE\\\\\n",
       "\t FALSE & FALSE\\\\\n",
       "\t FALSE & FALSE\\\\\n",
       "\t FALSE & FALSE\\\\\n",
       "\t FALSE & FALSE\\\\\n",
       "\t FALSE & FALSE\\\\\n",
       "\t FALSE & FALSE\\\\\n",
       "\t FALSE & FALSE\\\\\n",
       "\t FALSE & FALSE\\\\\n",
       "\t FALSE & FALSE\\\\\n",
       "\t FALSE & FALSE\\\\\n",
       "\t FALSE & FALSE\\\\\n",
       "\t FALSE & FALSE\\\\\n",
       "\t FALSE & FALSE\\\\\n",
       "\t FALSE & FALSE\\\\\n",
       "\t FALSE & FALSE\\\\\n",
       "\t FALSE & FALSE\\\\\n",
       "\t FALSE & FALSE\\\\\n",
       "\t FALSE & FALSE\\\\\n",
       "\t FALSE & FALSE\\\\\n",
       "\t FALSE & FALSE\\\\\n",
       "\t FALSE & FALSE\\\\\n",
       "\t FALSE & FALSE\\\\\n",
       "\t FALSE & FALSE\\\\\n",
       "\t FALSE & FALSE\\\\\n",
       "\t FALSE & FALSE\\\\\n",
       "\t FALSE & FALSE\\\\\n",
       "\t FALSE & FALSE\\\\\n",
       "\t FALSE & FALSE\\\\\n",
       "\\end{tabular}\n"
      ],
      "text/markdown": [
       "\n",
       "| YearsExperience | Salary |\n",
       "|---|---|\n",
       "| FALSE | FALSE |\n",
       "| FALSE | FALSE |\n",
       "| FALSE | FALSE |\n",
       "| FALSE | FALSE |\n",
       "| FALSE | FALSE |\n",
       "| FALSE | FALSE |\n",
       "| FALSE | FALSE |\n",
       "| FALSE | FALSE |\n",
       "| FALSE | FALSE |\n",
       "| FALSE | FALSE |\n",
       "| FALSE | FALSE |\n",
       "| FALSE | FALSE |\n",
       "| FALSE | FALSE |\n",
       "| FALSE | FALSE |\n",
       "| FALSE | FALSE |\n",
       "| FALSE | FALSE |\n",
       "| FALSE | FALSE |\n",
       "| FALSE | FALSE |\n",
       "| FALSE | FALSE |\n",
       "| FALSE | FALSE |\n",
       "| FALSE | FALSE |\n",
       "| FALSE | FALSE |\n",
       "| FALSE | FALSE |\n",
       "| FALSE | FALSE |\n",
       "| FALSE | FALSE |\n",
       "| FALSE | FALSE |\n",
       "| FALSE | FALSE |\n",
       "| FALSE | FALSE |\n",
       "| FALSE | FALSE |\n",
       "| FALSE | FALSE |\n",
       "\n"
      ],
      "text/plain": [
       "      YearsExperience Salary\n",
       " [1,] FALSE           FALSE \n",
       " [2,] FALSE           FALSE \n",
       " [3,] FALSE           FALSE \n",
       " [4,] FALSE           FALSE \n",
       " [5,] FALSE           FALSE \n",
       " [6,] FALSE           FALSE \n",
       " [7,] FALSE           FALSE \n",
       " [8,] FALSE           FALSE \n",
       " [9,] FALSE           FALSE \n",
       "[10,] FALSE           FALSE \n",
       "[11,] FALSE           FALSE \n",
       "[12,] FALSE           FALSE \n",
       "[13,] FALSE           FALSE \n",
       "[14,] FALSE           FALSE \n",
       "[15,] FALSE           FALSE \n",
       "[16,] FALSE           FALSE \n",
       "[17,] FALSE           FALSE \n",
       "[18,] FALSE           FALSE \n",
       "[19,] FALSE           FALSE \n",
       "[20,] FALSE           FALSE \n",
       "[21,] FALSE           FALSE \n",
       "[22,] FALSE           FALSE \n",
       "[23,] FALSE           FALSE \n",
       "[24,] FALSE           FALSE \n",
       "[25,] FALSE           FALSE \n",
       "[26,] FALSE           FALSE \n",
       "[27,] FALSE           FALSE \n",
       "[28,] FALSE           FALSE \n",
       "[29,] FALSE           FALSE \n",
       "[30,] FALSE           FALSE "
      ]
     },
     "metadata": {},
     "output_type": "display_data"
    }
   ],
   "source": [
    "is.na(data)"
   ]
  },
  {
   "cell_type": "code",
   "execution_count": 6,
   "metadata": {},
   "outputs": [
    {
     "name": "stderr",
     "output_type": "stream",
     "text": [
      "Warning message:\n",
      "\"package 'caTools' was built under R version 3.6.2\""
     ]
    }
   ],
   "source": [
    "library(caTools)"
   ]
  },
  {
   "cell_type": "code",
   "execution_count": 7,
   "metadata": {},
   "outputs": [
    {
     "data": {
      "text/html": [
       "<ol class=list-inline>\n",
       "\t<li>TRUE</li>\n",
       "\t<li>FALSE</li>\n",
       "\t<li>FALSE</li>\n",
       "\t<li>TRUE</li>\n",
       "\t<li>TRUE</li>\n",
       "\t<li>TRUE</li>\n",
       "\t<li>TRUE</li>\n",
       "\t<li>FALSE</li>\n",
       "\t<li>TRUE</li>\n",
       "\t<li>TRUE</li>\n",
       "\t<li>TRUE</li>\n",
       "\t<li>FALSE</li>\n",
       "\t<li>TRUE</li>\n",
       "\t<li>TRUE</li>\n",
       "\t<li>TRUE</li>\n",
       "\t<li>TRUE</li>\n",
       "\t<li>TRUE</li>\n",
       "\t<li>TRUE</li>\n",
       "\t<li>FALSE</li>\n",
       "\t<li>TRUE</li>\n",
       "\t<li>TRUE</li>\n",
       "\t<li>FALSE</li>\n",
       "\t<li>TRUE</li>\n",
       "\t<li>FALSE</li>\n",
       "\t<li>TRUE</li>\n",
       "\t<li>TRUE</li>\n",
       "\t<li>TRUE</li>\n",
       "\t<li>TRUE</li>\n",
       "\t<li>TRUE</li>\n",
       "\t<li>FALSE</li>\n",
       "</ol>\n"
      ],
      "text/latex": [
       "\\begin{enumerate*}\n",
       "\\item TRUE\n",
       "\\item FALSE\n",
       "\\item FALSE\n",
       "\\item TRUE\n",
       "\\item TRUE\n",
       "\\item TRUE\n",
       "\\item TRUE\n",
       "\\item FALSE\n",
       "\\item TRUE\n",
       "\\item TRUE\n",
       "\\item TRUE\n",
       "\\item FALSE\n",
       "\\item TRUE\n",
       "\\item TRUE\n",
       "\\item TRUE\n",
       "\\item TRUE\n",
       "\\item TRUE\n",
       "\\item TRUE\n",
       "\\item FALSE\n",
       "\\item TRUE\n",
       "\\item TRUE\n",
       "\\item FALSE\n",
       "\\item TRUE\n",
       "\\item FALSE\n",
       "\\item TRUE\n",
       "\\item TRUE\n",
       "\\item TRUE\n",
       "\\item TRUE\n",
       "\\item TRUE\n",
       "\\item FALSE\n",
       "\\end{enumerate*}\n"
      ],
      "text/markdown": [
       "1. TRUE\n",
       "2. FALSE\n",
       "3. FALSE\n",
       "4. TRUE\n",
       "5. TRUE\n",
       "6. TRUE\n",
       "7. TRUE\n",
       "8. FALSE\n",
       "9. TRUE\n",
       "10. TRUE\n",
       "11. TRUE\n",
       "12. FALSE\n",
       "13. TRUE\n",
       "14. TRUE\n",
       "15. TRUE\n",
       "16. TRUE\n",
       "17. TRUE\n",
       "18. TRUE\n",
       "19. FALSE\n",
       "20. TRUE\n",
       "21. TRUE\n",
       "22. FALSE\n",
       "23. TRUE\n",
       "24. FALSE\n",
       "25. TRUE\n",
       "26. TRUE\n",
       "27. TRUE\n",
       "28. TRUE\n",
       "29. TRUE\n",
       "30. FALSE\n",
       "\n",
       "\n"
      ],
      "text/plain": [
       " [1]  TRUE FALSE FALSE  TRUE  TRUE  TRUE  TRUE FALSE  TRUE  TRUE  TRUE FALSE\n",
       "[13]  TRUE  TRUE  TRUE  TRUE  TRUE  TRUE FALSE  TRUE  TRUE FALSE  TRUE FALSE\n",
       "[25]  TRUE  TRUE  TRUE  TRUE  TRUE FALSE"
      ]
     },
     "metadata": {},
     "output_type": "display_data"
    }
   ],
   "source": [
    "set.seed(12)\n",
    "split = sample.split(data$Salary, SplitRatio = 0.75)\n",
    "split"
   ]
  },
  {
   "cell_type": "code",
   "execution_count": 8,
   "metadata": {},
   "outputs": [],
   "source": [
    "training <- subset(data, split == T)\n",
    "test <- subset(data, split == F)"
   ]
  },
  {
   "cell_type": "code",
   "execution_count": 9,
   "metadata": {},
   "outputs": [
    {
     "data": {
      "text/html": [
       "<table>\n",
       "<thead><tr><th></th><th scope=col>YearsExperience</th><th scope=col>Salary</th></tr></thead>\n",
       "<tbody>\n",
       "\t<tr><th scope=row>1</th><td> 1.1  </td><td> 39343</td></tr>\n",
       "\t<tr><th scope=row>4</th><td> 2.0  </td><td> 43525</td></tr>\n",
       "\t<tr><th scope=row>5</th><td> 2.2  </td><td> 39891</td></tr>\n",
       "\t<tr><th scope=row>6</th><td> 2.9  </td><td> 56642</td></tr>\n",
       "\t<tr><th scope=row>7</th><td> 3.0  </td><td> 60150</td></tr>\n",
       "\t<tr><th scope=row>9</th><td> 3.2  </td><td> 64445</td></tr>\n",
       "\t<tr><th scope=row>10</th><td> 3.7  </td><td> 57189</td></tr>\n",
       "\t<tr><th scope=row>11</th><td> 3.9  </td><td> 63218</td></tr>\n",
       "\t<tr><th scope=row>13</th><td> 4.0  </td><td> 56957</td></tr>\n",
       "\t<tr><th scope=row>14</th><td> 4.1  </td><td> 57081</td></tr>\n",
       "\t<tr><th scope=row>15</th><td> 4.5  </td><td> 61111</td></tr>\n",
       "\t<tr><th scope=row>16</th><td> 4.9  </td><td> 67938</td></tr>\n",
       "\t<tr><th scope=row>17</th><td> 5.1  </td><td> 66029</td></tr>\n",
       "\t<tr><th scope=row>18</th><td> 5.3  </td><td> 83088</td></tr>\n",
       "\t<tr><th scope=row>20</th><td> 6.0  </td><td> 93940</td></tr>\n",
       "\t<tr><th scope=row>21</th><td> 6.8  </td><td> 91738</td></tr>\n",
       "\t<tr><th scope=row>23</th><td> 7.9  </td><td>101302</td></tr>\n",
       "\t<tr><th scope=row>25</th><td> 8.7  </td><td>109431</td></tr>\n",
       "\t<tr><th scope=row>26</th><td> 9.0  </td><td>105582</td></tr>\n",
       "\t<tr><th scope=row>27</th><td> 9.5  </td><td>116969</td></tr>\n",
       "\t<tr><th scope=row>28</th><td> 9.6  </td><td>112635</td></tr>\n",
       "\t<tr><th scope=row>29</th><td>10.3  </td><td>122391</td></tr>\n",
       "</tbody>\n",
       "</table>\n"
      ],
      "text/latex": [
       "\\begin{tabular}{r|ll}\n",
       "  & YearsExperience & Salary\\\\\n",
       "\\hline\n",
       "\t1 &  1.1   &  39343\\\\\n",
       "\t4 &  2.0   &  43525\\\\\n",
       "\t5 &  2.2   &  39891\\\\\n",
       "\t6 &  2.9   &  56642\\\\\n",
       "\t7 &  3.0   &  60150\\\\\n",
       "\t9 &  3.2   &  64445\\\\\n",
       "\t10 &  3.7   &  57189\\\\\n",
       "\t11 &  3.9   &  63218\\\\\n",
       "\t13 &  4.0   &  56957\\\\\n",
       "\t14 &  4.1   &  57081\\\\\n",
       "\t15 &  4.5   &  61111\\\\\n",
       "\t16 &  4.9   &  67938\\\\\n",
       "\t17 &  5.1   &  66029\\\\\n",
       "\t18 &  5.3   &  83088\\\\\n",
       "\t20 &  6.0   &  93940\\\\\n",
       "\t21 &  6.8   &  91738\\\\\n",
       "\t23 &  7.9   & 101302\\\\\n",
       "\t25 &  8.7   & 109431\\\\\n",
       "\t26 &  9.0   & 105582\\\\\n",
       "\t27 &  9.5   & 116969\\\\\n",
       "\t28 &  9.6   & 112635\\\\\n",
       "\t29 & 10.3   & 122391\\\\\n",
       "\\end{tabular}\n"
      ],
      "text/markdown": [
       "\n",
       "| <!--/--> | YearsExperience | Salary |\n",
       "|---|---|---|\n",
       "| 1 |  1.1   |  39343 |\n",
       "| 4 |  2.0   |  43525 |\n",
       "| 5 |  2.2   |  39891 |\n",
       "| 6 |  2.9   |  56642 |\n",
       "| 7 |  3.0   |  60150 |\n",
       "| 9 |  3.2   |  64445 |\n",
       "| 10 |  3.7   |  57189 |\n",
       "| 11 |  3.9   |  63218 |\n",
       "| 13 |  4.0   |  56957 |\n",
       "| 14 |  4.1   |  57081 |\n",
       "| 15 |  4.5   |  61111 |\n",
       "| 16 |  4.9   |  67938 |\n",
       "| 17 |  5.1   |  66029 |\n",
       "| 18 |  5.3   |  83088 |\n",
       "| 20 |  6.0   |  93940 |\n",
       "| 21 |  6.8   |  91738 |\n",
       "| 23 |  7.9   | 101302 |\n",
       "| 25 |  8.7   | 109431 |\n",
       "| 26 |  9.0   | 105582 |\n",
       "| 27 |  9.5   | 116969 |\n",
       "| 28 |  9.6   | 112635 |\n",
       "| 29 | 10.3   | 122391 |\n",
       "\n"
      ],
      "text/plain": [
       "   YearsExperience Salary\n",
       "1   1.1             39343\n",
       "4   2.0             43525\n",
       "5   2.2             39891\n",
       "6   2.9             56642\n",
       "7   3.0             60150\n",
       "9   3.2             64445\n",
       "10  3.7             57189\n",
       "11  3.9             63218\n",
       "13  4.0             56957\n",
       "14  4.1             57081\n",
       "15  4.5             61111\n",
       "16  4.9             67938\n",
       "17  5.1             66029\n",
       "18  5.3             83088\n",
       "20  6.0             93940\n",
       "21  6.8             91738\n",
       "23  7.9            101302\n",
       "25  8.7            109431\n",
       "26  9.0            105582\n",
       "27  9.5            116969\n",
       "28  9.6            112635\n",
       "29 10.3            122391"
      ]
     },
     "metadata": {},
     "output_type": "display_data"
    }
   ],
   "source": [
    "training"
   ]
  },
  {
   "cell_type": "code",
   "execution_count": 10,
   "metadata": {},
   "outputs": [
    {
     "data": {
      "text/html": [
       "<table>\n",
       "<thead><tr><th></th><th scope=col>YearsExperience</th><th scope=col>Salary</th></tr></thead>\n",
       "<tbody>\n",
       "\t<tr><th scope=row>2</th><td> 1.3  </td><td> 46205</td></tr>\n",
       "\t<tr><th scope=row>3</th><td> 1.5  </td><td> 37731</td></tr>\n",
       "\t<tr><th scope=row>8</th><td> 3.2  </td><td> 54445</td></tr>\n",
       "\t<tr><th scope=row>12</th><td> 4.0  </td><td> 55794</td></tr>\n",
       "\t<tr><th scope=row>19</th><td> 5.9  </td><td> 81363</td></tr>\n",
       "\t<tr><th scope=row>22</th><td> 7.1  </td><td> 98273</td></tr>\n",
       "\t<tr><th scope=row>24</th><td> 8.2  </td><td>113812</td></tr>\n",
       "\t<tr><th scope=row>30</th><td>10.5  </td><td>121872</td></tr>\n",
       "</tbody>\n",
       "</table>\n"
      ],
      "text/latex": [
       "\\begin{tabular}{r|ll}\n",
       "  & YearsExperience & Salary\\\\\n",
       "\\hline\n",
       "\t2 &  1.3   &  46205\\\\\n",
       "\t3 &  1.5   &  37731\\\\\n",
       "\t8 &  3.2   &  54445\\\\\n",
       "\t12 &  4.0   &  55794\\\\\n",
       "\t19 &  5.9   &  81363\\\\\n",
       "\t22 &  7.1   &  98273\\\\\n",
       "\t24 &  8.2   & 113812\\\\\n",
       "\t30 & 10.5   & 121872\\\\\n",
       "\\end{tabular}\n"
      ],
      "text/markdown": [
       "\n",
       "| <!--/--> | YearsExperience | Salary |\n",
       "|---|---|---|\n",
       "| 2 |  1.3   |  46205 |\n",
       "| 3 |  1.5   |  37731 |\n",
       "| 8 |  3.2   |  54445 |\n",
       "| 12 |  4.0   |  55794 |\n",
       "| 19 |  5.9   |  81363 |\n",
       "| 22 |  7.1   |  98273 |\n",
       "| 24 |  8.2   | 113812 |\n",
       "| 30 | 10.5   | 121872 |\n",
       "\n"
      ],
      "text/plain": [
       "   YearsExperience Salary\n",
       "2   1.3             46205\n",
       "3   1.5             37731\n",
       "8   3.2             54445\n",
       "12  4.0             55794\n",
       "19  5.9             81363\n",
       "22  7.1             98273\n",
       "24  8.2            113812\n",
       "30 10.5            121872"
      ]
     },
     "metadata": {},
     "output_type": "display_data"
    }
   ],
   "source": [
    "test"
   ]
  },
  {
   "cell_type": "code",
   "execution_count": 11,
   "metadata": {},
   "outputs": [],
   "source": [
    "regressor <- lm(formula = Salary ~ YearsExperience, data = data)"
   ]
  },
  {
   "cell_type": "code",
   "execution_count": 12,
   "metadata": {},
   "outputs": [],
   "source": [
    "pred <- predict(regressor, newdata = test)"
   ]
  },
  {
   "cell_type": "code",
   "execution_count": 13,
   "metadata": {},
   "outputs": [
    {
     "data": {
      "text/html": [
       "<dl class=dl-horizontal>\n",
       "\t<dt>2</dt>\n",
       "\t\t<dd>38077.1512165603</dd>\n",
       "\t<dt>3</dt>\n",
       "\t\t<dd>39967.1436808513</dd>\n",
       "\t<dt>8</dt>\n",
       "\t\t<dd>56032.0796273249</dd>\n",
       "\t<dt>12</dt>\n",
       "\t\t<dd>63592.049484489</dd>\n",
       "\t<dt>19</dt>\n",
       "\t\t<dd>81546.9778952536</dd>\n",
       "\t<dt>22</dt>\n",
       "\t\t<dd>92886.9326809997</dd>\n",
       "\t<dt>24</dt>\n",
       "\t\t<dd>103281.8912346</dd>\n",
       "\t<dt>30</dt>\n",
       "\t\t<dd>125016.804573947</dd>\n",
       "</dl>\n"
      ],
      "text/latex": [
       "\\begin{description*}\n",
       "\\item[2] 38077.1512165603\n",
       "\\item[3] 39967.1436808513\n",
       "\\item[8] 56032.0796273249\n",
       "\\item[12] 63592.049484489\n",
       "\\item[19] 81546.9778952536\n",
       "\\item[22] 92886.9326809997\n",
       "\\item[24] 103281.8912346\n",
       "\\item[30] 125016.804573947\n",
       "\\end{description*}\n"
      ],
      "text/markdown": [
       "2\n",
       ":   38077.15121656033\n",
       ":   39967.14368085138\n",
       ":   56032.079627324912\n",
       ":   63592.04948448919\n",
       ":   81546.977895253622\n",
       ":   92886.932680999724\n",
       ":   103281.891234630\n",
       ":   125016.804573947\n",
       "\n"
      ],
      "text/plain": [
       "        2         3         8        12        19        22        24        30 \n",
       " 38077.15  39967.14  56032.08  63592.05  81546.98  92886.93 103281.89 125016.80 "
      ]
     },
     "metadata": {},
     "output_type": "display_data"
    }
   ],
   "source": [
    "pred"
   ]
  },
  {
   "cell_type": "code",
   "execution_count": 14,
   "metadata": {},
   "outputs": [],
   "source": [
    "library(ggplot2)"
   ]
  },
  {
   "cell_type": "code",
   "execution_count": 15,
   "metadata": {},
   "outputs": [
    {
     "data": {
      "image/png": "[encoded data removed]",
      "text/plain": [
       "plot without title"
      ]
     },
     "metadata": {},
     "output_type": "display_data"
    }
   ],
   "source": [
    "ggplot() + geom_point(aes(x = training$YearsExperience, y = training$Salary),\n",
    "                     color = 'red')+  geom_line(aes(x = training$YearsExperience, y = predict(regressor, newdata = training)),\n",
    "             color = 'blue')"
   ]
  },
  {
   "cell_type": "code",
   "execution_count": null,
   "metadata": {},
   "outputs": [],
   "source": []
  }
 ],
 "metadata": {
  "kernelspec": {
   "display_name": "R",
   "language": "R",
   "name": "ir"
  },
  "language_info": {
   "codemirror_mode": "r",
   "file_extension": ".r",
   "mimetype": "text/x-r-source",
   "name": "R",
   "pygments_lexer": "r",
   "version": "3.6.1"
  }
 },
 "nbformat": 4,
 "nbformat_minor": 2
}
